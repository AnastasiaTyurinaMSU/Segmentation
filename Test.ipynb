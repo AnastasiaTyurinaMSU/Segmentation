{
  "nbformat": 4,
  "nbformat_minor": 0,
  "metadata": {
    "colab": {
      "name": "Test.ipynb",
      "provenance": [],
      "collapsed_sections": []
    },
    "kernelspec": {
      "name": "python3",
      "display_name": "Python 3"
    },
    "language_info": {
      "name": "python"
    },
    "accelerator": "GPU",
    "gpuClass": "standard"
  },
  "cells": [
    {
      "cell_type": "code",
      "execution_count": null,
      "metadata": {
        "id": "PV3HqzhcUBg1"
      },
      "outputs": [],
      "source": [
        "import torch\n",
        "import glob\n",
        "from PIL import Image\n",
        "import torch.optim as optim\n",
        "from torch.utils.data import DataLoader,  TensorDataset, Dataset\n",
        "import torch.nn as nn\n",
        "\n",
        "import numpy as np\n",
        "import matplotlib.pyplot as plt\n",
        "import math\n",
        "\n",
        "import shutil\n",
        "import time\n",
        "from tqdm import tqdm\n",
        "\n",
        "import imageio\n",
        "\n",
        "!pip install git+https://github.com/qubvel/segmentation_models.pytorch\n",
        "import segmentation_models_pytorch as smp\n",
        "\n",
        "import pickle\n",
        "\n",
        "import random\n",
        "\n",
        "def set_random_seed(seed):\n",
        "    torch.backends.cudnn.deterministic = True\n",
        "    torch.manual_seed(seed)\n",
        "    torch.cuda.manual_seed(seed)\n",
        "    np.random.seed(seed)\n",
        "    random.seed(seed)\n",
        "    os.environ[\"PYTHONHASHSEED\"] = str(seed)\n",
        "set_random_seed(42)"
      ]
    },
    {
      "cell_type": "code",
      "source": [
        "from google.colab import drive\n",
        "drive.mount('/gdrive')"
      ],
      "metadata": {
        "colab": {
          "base_uri": "https://localhost:8080/"
        },
        "id": "xYWLJjtCUf0L",
        "outputId": "3b12e4ee-0e85-40ae-97df-9b025a27d1c3"
      },
      "execution_count": null,
      "outputs": [
        {
          "output_type": "stream",
          "name": "stdout",
          "text": [
            "Drive already mounted at /gdrive; to attempt to forcibly remount, call drive.mount(\"/gdrive\", force_remount=True).\n"
          ]
        }
      ]
    },
    {
      "cell_type": "code",
      "source": [
        "class MyDataset(Dataset):\n",
        "    \n",
        "    def __init__(self, data, targets, transform=None):\n",
        "        self.data = data\n",
        "        self.targets = targets\n",
        "        self.data.sort()\n",
        "        self.targets.sort()\n",
        "        self.transform = transform\n",
        "        \n",
        "    def __len__(self):\n",
        "        return len(self.targets)\n",
        "\n",
        "    def __getitem__(self, idx):\n",
        "        image = self.data[idx]\n",
        "        label = self.targets[idx]\n",
        "        if self.transform:\n",
        "            image = self.transform(image)\n",
        "        \n",
        "\n",
        "        return image, label"
      ],
      "metadata": {
        "id": "VtL5TaaBlijt"
      },
      "execution_count": null,
      "outputs": []
    },
    {
      "cell_type": "code",
      "source": [
        "with open('/gdrive/My Drive/Segmentation_project/test_datasets/test_images_B3', 'rb') as f:\n",
        "    test_imag = pickle.load(f)\n",
        "with open('/gdrive/My Drive/Segmentation_project/test_datasets/test_masks_B3', 'rb') as f:\n",
        "    test_masks = pickle.load(f)\n",
        "\n",
        "x_images = torch.from_numpy(test_imag/255)\n",
        "print(x_images.shape)\n",
        "x_images = torch.transpose(x_images, 1, 3)\n",
        "x_images = torch.transpose(x_images, 2, 3)\n",
        "print(x_images.shape)\n",
        "y_labels = torch.from_numpy(test_masks/255)\n",
        "print(y_labels.shape)\n",
        "y_labels = y_labels[:,:,:,2].unsqueeze(1)\n",
        "print(y_labels.shape)\n",
        "\n",
        "len_dataset = len(y_labels) \n",
        "dataset = MyDataset(data=x_images.float(), targets=y_labels)\n",
        "test_loader = DataLoader(dataset, batch_size = 34, shuffle = False)\n",
        "del dataset\n"
      ],
      "metadata": {
        "id": "PUSgCRbtUKXU"
      },
      "execution_count": null,
      "outputs": []
    },
    {
      "cell_type": "code",
      "source": [
        "model = smp.Unet(encoder_name='efficientnet-b0', \n",
        "                 encoder_depth=5, \n",
        "                 encoder_weights='imagenet', \n",
        "                 decoder_use_batchnorm=True, \n",
        "                 decoder_channels=(256, 128, 64, 32, 16), \n",
        "                 decoder_attention_type=None, \n",
        "                 in_channels=3, \n",
        "                 classes=1, \n",
        "                 #activation='sigmoid', \n",
        "                 aux_params=None)"
      ],
      "metadata": {
        "id": "O0pgZiIxUKc5"
      },
      "execution_count": null,
      "outputs": []
    },
    {
      "cell_type": "code",
      "source": [
        "#model = smp.DeepLabV3Plus(encoder_name='efficientnet-b4', \n",
        "#                          encoder_depth=5,\n",
        "#                          encoder_weights='imagenet',\n",
        "#                          encoder_output_stride=16,\n",
        "#                          decoder_channels=256,\n",
        "#                          decoder_atrous_rates=(12, 24, 36),\n",
        "#                          in_channels=3,\n",
        "#                          classes=1,\n",
        "#                          activation=None,\n",
        "#                          upsampling=4,\n",
        "#                          aux_params=None)"
      ],
      "metadata": {
        "id": "lgSKqoXB213t"
      },
      "execution_count": null,
      "outputs": []
    },
    {
      "cell_type": "code",
      "source": [
        "model.load_state_dict(torch.load('/gdrive/My Drive/TyurinaAV_Segmentation/Test/modelUNet_weights_efficientnet-b0_batch=26_100ep_NEW.pth', map_location=torch.device('cuda')))\n",
        "device = torch.device(\"cuda\")\n",
        "model.to(device)\n",
        "model.eval()\n",
        "#device = torch.device(\"cpu\")\n",
        "\n",
        "images = []\n",
        "labels_true = []\n",
        "labels_predicted = []\n",
        "with torch.no_grad():\n",
        "    for imag, labels in test_loader:\n",
        "        imag = imag.to(device)\n",
        "        labels = labels.to(device)\n",
        "        # print(images.shape)\n",
        "        # print(labels.shape)\n",
        "        outputs = model(imag)\n",
        "        images.append(imag)\n",
        "        labels_true.append(labels)\n",
        "        labels_predicted.append(outputs)"
      ],
      "metadata": {
        "id": "_VOxz6KAUKfP"
      },
      "execution_count": null,
      "outputs": []
    },
    {
      "cell_type": "code",
      "source": [
        "# saving predicted mask\n",
        "labels_predicted_full_mask = []\n",
        "for i in range(len(labels_predicted)):\n",
        "    for j in range(len(labels_predicted[0])):\n",
        "        labels_predicted_full_mask.append((labels_predicted[i][j]>=0.5).detach().cpu().numpy().astype(int).astype(float))\n",
        "\n",
        "labels_predicted_full_mask = np.array(labels_predicted_full_mask)\n",
        "labels_predicted_full_mask = labels_predicted_full_mask*255\n",
        "labels_predicted_full_mask = labels_predicted_full_mask.reshape(1020, 256, 256) # original shape\n",
        "print(labels_predicted_full_mask.shape)"
      ],
      "metadata": {
        "id": "L8ttpCVCS6IO"
      },
      "execution_count": null,
      "outputs": []
    },
    {
      "cell_type": "code",
      "source": [
        "def reconstruct_from_patches_custom(img_arr, org_img_size, stride=None, size=None): \n",
        "    # for keras but changed\n",
        "\n",
        "    # check parameters\n",
        "    if type(org_img_size) is not tuple:\n",
        "        raise ValueError(\"org_image_size must be a tuple\")\n",
        "\n",
        "    #if img_arr.ndim == 3:\n",
        "        #img_arr = np.expand_dims(img_arr, axis=0)\n",
        "\n",
        "    if size is None:\n",
        "        size = img_arr.shape[1]\n",
        "\n",
        "    if stride is None:\n",
        "        stride = size\n",
        "\n",
        "    #nm_layers = img_arr.shape[3]\n",
        "\n",
        "    i_max = (org_img_size[0] // stride) + 1 - (size // stride)\n",
        "    j_max = (org_img_size[1] // stride) + 1 - (size // stride)\n",
        "\n",
        "    total_nm_images = img_arr.shape[0] // (i_max ** 2)\n",
        "    nm_images = img_arr.shape[0]\n",
        "\n",
        "    averaging_value = size // stride\n",
        "    images_list = []\n",
        "    kk = 0\n",
        "    print(img_arr.shape)\n",
        "    for img_count in range(total_nm_images):\n",
        "        #print(img_count)\n",
        "        img_bg = np.zeros(\n",
        "            (org_img_size[0], org_img_size[1]), dtype=img_arr[0].dtype\n",
        "        )\n",
        "\n",
        "        for i in range(i_max):\n",
        "            for j in range(j_max):\n",
        "                img_bg[\n",
        "                        i * stride : i * stride + size,\n",
        "                        j * stride : j * stride + size,\n",
        "                    ] = img_arr[kk, :, :]\n",
        "\n",
        "                kk += 1\n",
        "\n",
        "        images_list.append(img_bg)\n",
        "\n",
        "    return np.stack(images_list)"
      ],
      "metadata": {
        "id": "dkuU7l51HsxP"
      },
      "execution_count": null,
      "outputs": []
    },
    {
      "cell_type": "code",
      "source": [
        "y_labels_reconstructed = reconstruct_from_patches_custom(img_arr=labels_predicted_full_mask, org_img_size=(7758, 8764), stride = 256, size=256)\n",
        "y_labels_reconstructed = np.array(y_labels_reconstructed)\n",
        "print(y_labels_reconstructed.shape)"
      ],
      "metadata": {
        "id": "eENkyFyx_BxS"
      },
      "execution_count": null,
      "outputs": []
    },
    {
      "cell_type": "code",
      "source": [
        "img = Image.fromarray(y_labels_reconstructed[0])\n",
        "img = img.convert(\"L\")\n",
        "img.save('/gdrive/My Drive/TyurinaAV_segmentation/Test/test_mask_predicted_UNet_efficientnet-b0_batch=26_B3', \"PNG\")"
      ],
      "metadata": {
        "id": "F3MJgZ7dOCRA"
      },
      "execution_count": null,
      "outputs": []
    },
    {
      "cell_type": "code",
      "source": [
        "img"
      ],
      "metadata": {
        "id": "CXTBh2Pw6Red"
      },
      "execution_count": null,
      "outputs": []
    }
  ]
}