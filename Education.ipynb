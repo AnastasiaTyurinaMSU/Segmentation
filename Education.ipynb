{
  "cells": [
    {
      "cell_type": "code",
      "execution_count": 1,
      "metadata": {
        "colab": {
          "base_uri": "https://localhost:8080/"
        },
        "id": "pjJ-Lke_gMLC",
        "outputId": "188feda3-b9f6-4a35-ca91-578a2e2a290d"
      },
      "outputs": [
        {
          "output_type": "stream",
          "name": "stdout",
          "text": [
            "Collecting git+https://github.com/qubvel/segmentation_models.pytorch\n",
            "  Cloning https://github.com/qubvel/segmentation_models.pytorch to /tmp/pip-req-build-0z78ydmv\n",
            "  Running command git clone -q https://github.com/qubvel/segmentation_models.pytorch /tmp/pip-req-build-0z78ydmv\n",
            "  Installing build dependencies ... \u001b[?25l\u001b[?25hdone\n",
            "  Getting requirements to build wheel ... \u001b[?25l\u001b[?25hdone\n",
            "    Preparing wheel metadata ... \u001b[?25l\u001b[?25hdone\n",
            "Requirement already satisfied: pretrainedmodels==0.7.4 in /usr/local/lib/python3.7/dist-packages (from segmentation-models-pytorch==0.3.0.dev0) (0.7.4)\n",
            "Requirement already satisfied: pillow in /usr/local/lib/python3.7/dist-packages (from segmentation-models-pytorch==0.3.0.dev0) (7.1.2)\n",
            "Requirement already satisfied: tqdm in /usr/local/lib/python3.7/dist-packages (from segmentation-models-pytorch==0.3.0.dev0) (4.64.0)\n",
            "Requirement already satisfied: efficientnet-pytorch==0.6.3 in /usr/local/lib/python3.7/dist-packages (from segmentation-models-pytorch==0.3.0.dev0) (0.6.3)\n",
            "Requirement already satisfied: timm==0.4.12 in /usr/local/lib/python3.7/dist-packages (from segmentation-models-pytorch==0.3.0.dev0) (0.4.12)\n",
            "Requirement already satisfied: torchvision>=0.5.0 in /usr/local/lib/python3.7/dist-packages (from segmentation-models-pytorch==0.3.0.dev0) (0.12.0+cu113)\n",
            "Requirement already satisfied: torch in /usr/local/lib/python3.7/dist-packages (from efficientnet-pytorch==0.6.3->segmentation-models-pytorch==0.3.0.dev0) (1.11.0+cu113)\n",
            "Requirement already satisfied: munch in /usr/local/lib/python3.7/dist-packages (from pretrainedmodels==0.7.4->segmentation-models-pytorch==0.3.0.dev0) (2.5.0)\n",
            "Requirement already satisfied: typing-extensions in /usr/local/lib/python3.7/dist-packages (from torch->efficientnet-pytorch==0.6.3->segmentation-models-pytorch==0.3.0.dev0) (4.2.0)\n",
            "Requirement already satisfied: numpy in /usr/local/lib/python3.7/dist-packages (from torchvision>=0.5.0->segmentation-models-pytorch==0.3.0.dev0) (1.21.6)\n",
            "Requirement already satisfied: requests in /usr/local/lib/python3.7/dist-packages (from torchvision>=0.5.0->segmentation-models-pytorch==0.3.0.dev0) (2.23.0)\n",
            "Requirement already satisfied: six in /usr/local/lib/python3.7/dist-packages (from munch->pretrainedmodels==0.7.4->segmentation-models-pytorch==0.3.0.dev0) (1.15.0)\n",
            "Requirement already satisfied: urllib3!=1.25.0,!=1.25.1,<1.26,>=1.21.1 in /usr/local/lib/python3.7/dist-packages (from requests->torchvision>=0.5.0->segmentation-models-pytorch==0.3.0.dev0) (1.24.3)\n",
            "Requirement already satisfied: idna<3,>=2.5 in /usr/local/lib/python3.7/dist-packages (from requests->torchvision>=0.5.0->segmentation-models-pytorch==0.3.0.dev0) (2.10)\n",
            "Requirement already satisfied: chardet<4,>=3.0.2 in /usr/local/lib/python3.7/dist-packages (from requests->torchvision>=0.5.0->segmentation-models-pytorch==0.3.0.dev0) (3.0.4)\n",
            "Requirement already satisfied: certifi>=2017.4.17 in /usr/local/lib/python3.7/dist-packages (from requests->torchvision>=0.5.0->segmentation-models-pytorch==0.3.0.dev0) (2021.10.8)\n",
            "Drive already mounted at /gdrive; to attempt to forcibly remount, call drive.mount(\"/gdrive\", force_remount=True).\n"
          ]
        }
      ],
      "source": [
        "import torch\n",
        "import glob\n",
        "from PIL import Image\n",
        "import torch.optim as optim\n",
        "from torch.utils.data import DataLoader,  TensorDataset, Dataset\n",
        "import torch.nn as nn\n",
        "\n",
        "import numpy as np\n",
        "import matplotlib.pyplot as plt\n",
        "import math\n",
        "\n",
        "from os import listdir\n",
        "import shutil\n",
        "import time\n",
        "from tqdm import tqdm\n",
        "\n",
        "#from torchvision import models, datasets, transforms\n",
        "!pip install git+https://github.com/qubvel/segmentation_models.pytorch\n",
        "import segmentation_models_pytorch as smp\n",
        "\n",
        "import imageio\n",
        "\n",
        "import pickle\n",
        "\n",
        "from google.colab import drive\n",
        "drive.mount('/gdrive')\n",
        "\n",
        "import random\n",
        "random.seed(42)"
      ]
    },
    {
      "cell_type": "code",
      "execution_count": 2,
      "metadata": {
        "collapsed": true,
        "id": "YG2ToT0YgMLG"
      },
      "outputs": [],
      "source": [
        "# dataset creating \n",
        "class MyDataset(Dataset):\n",
        "    \n",
        "    def __init__(self, data, targets, transform=None):\n",
        "        #self.data = data\n",
        "        #self.targets = targets\n",
        "        #self.data.sort()\n",
        "        #self.targets.sort()\n",
        "        #self.transform = transform\n",
        "\n",
        "        self.dir_data = data\n",
        "        self.dir_targets = targets\n",
        "\n",
        "        self.list_data = listdir(data)\n",
        "        self.list_targets = listdir(targets)\n",
        "\n",
        "        self.list_data.sort()\n",
        "        self.list_targets.sort()\n",
        "\n",
        "\n",
        "        \n",
        "    def __len__(self):\n",
        "        #return len(self.targets)\n",
        "        #return 9593\n",
        "        if len(listdir(self.dir_data)) != len(listdir(self.dir_targets)):\n",
        "            raise Exception(f'error {len(listdir(self.dir_data))} {len(listdir(self.dir_targets))}')\n",
        "        return len(listdir(self.dir_data))\n",
        "\n",
        "    def __getitem__(self, idx):\n",
        "        #image = self.data[idx]\n",
        "        #label = self.targets[idx]\n",
        "        #if self.transform:\n",
        "            #image = self.transform(image)\n",
        "        #print(f'{self.dir_data}/{self.list_data[idx]}')\n",
        "        with open(f'{self.dir_data}/{self.list_data[idx]}', 'rb') as f:\n",
        "            image = pickle.load(f)\n",
        "\n",
        "        with open(f'{self.dir_targets}/{self.list_targets[idx]}', 'rb') as f:\n",
        "            label = pickle.load(f)\n",
        "\n",
        "        return torch.from_numpy(image).float(), torch.from_numpy(label)"
      ]
    },
    {
      "cell_type": "code",
      "execution_count": 3,
      "metadata": {
        "collapsed": true,
        "id": "1WH06hsxgMLK"
      },
      "outputs": [],
      "source": [
        "# dataset\n",
        "#dir_img = 'gdrive/My Drive/Segmentation_project/train_val_images_cropped'\n",
        "#dir_mask = 'gdrive/My Drive/Segmentation_project/train_val_masks_2cl_cropped'\n",
        "\n",
        "#dataset = MyDataset(data=dir_img, targets=dir_mask)"
      ]
    },
    {
      "cell_type": "code",
      "source": [
        "# equal amount of images with total black and wb zones\n",
        "#counter_black = []\n",
        "#counter_wb = []\n",
        "#for i in range(len(dataset)):\n",
        "#    if sum(sum(sum(dataset[i][1]))) > 0:\n",
        "#        counter_wb.append(i)\n",
        "#    else:\n",
        "#        counter_black.append(i)\n",
        "\n",
        "#print(len(counter_black))\n",
        "#print(len(counter_wb))\n",
        "\n"
      ],
      "metadata": {
        "id": "-fi_zeoZi4AV"
      },
      "execution_count": 4,
      "outputs": []
    },
    {
      "cell_type": "code",
      "source": [
        "#with open('/gdrive/My Drive/Segmentation_project/counter_black', 'wb+') as f:\n",
        "#    pickle.dump(counter_black, f)\n",
        "\n",
        "#with open('/gdrive/My Drive/Segmentation_project/counter_wb', 'wb+') as f:\n",
        "#    pickle.dump(counter_wb, f) "
      ],
      "metadata": {
        "id": "1s-n_J7Fyzl9"
      },
      "execution_count": 5,
      "outputs": []
    },
    {
      "cell_type": "code",
      "source": [
        "#ind_wb = random.sample(counter_wb, 2600)\n",
        "#ind_black = random.sample(counter_black, 2600)\n",
        "\n",
        "#ind = ind_wb + ind_black\n",
        "#print(len(ind))\n",
        "#print(len(set(ind)))"
      ],
      "metadata": {
        "id": "wbBUt8OnjgX9"
      },
      "execution_count": 6,
      "outputs": []
    },
    {
      "cell_type": "code",
      "source": [
        "#for index in tqdm(ind):\n",
        "#    shutil.copy(f'/gdrive/My Drive/Segmentation_project/train_val_images_cropped/image_{index}', f'/gdrive/My Drive/Segmentation_project/train_val_images_cropped_balanced/image_{index}')\n",
        "#    shutil.copy(f'/gdrive/My Drive/Segmentation_project/train_val_masks_2cl_cropped/mask_{index}', f'/gdrive/My Drive/Segmentation_project/train_val_masks_2cl_cropped_balanced/mask_{index}')"
      ],
      "metadata": {
        "id": "974DlgYQ86WX"
      },
      "execution_count": 7,
      "outputs": []
    },
    {
      "cell_type": "code",
      "source": [
        "# dataset balanced\n",
        "dir_img = '/gdrive/My Drive/Segmentation_project/train_val_images_cropped_balanced'\n",
        "dir_mask = '/gdrive/My Drive/Segmentation_project/train_val_masks_2cl_cropped_balanced'\n",
        "\n",
        "dataset_balanced = MyDataset(data=dir_img, targets=dir_mask)\n",
        "\n",
        "#print(len(dataset_balanced))\n",
        "\n",
        "\n",
        "train_dataset, val_dataset = torch.utils.data.random_split(dataset_balanced, [int(5200*0.8), int(5200*0.2)])\n",
        "train_loader = DataLoader(train_dataset, batch_size = 52, shuffle = True)\n",
        "val_loader = DataLoader(val_dataset, batch_size = 52, shuffle = False)"
      ],
      "metadata": {
        "id": "UO0tkM9RA4OT"
      },
      "execution_count": 8,
      "outputs": []
    },
    {
      "cell_type": "code",
      "source": [
        "fig, axes = plt.subplots(1, 2, figsize=(5,5))\n",
        "axes[0].imshow(torch.transpose(torch.transpose(dataset_balanced[6][0], 0, 2), 0, 1))\n",
        "axes[1].imshow(dataset_balanced[6][1].squeeze(), cmap = 'gray', vmin=0, vmax=1)"
      ],
      "metadata": {
        "colab": {
          "base_uri": "https://localhost:8080/",
          "height": 195
        },
        "id": "hz_dCTziCbVr",
        "outputId": "c1e55b9c-e1a6-463b-80c0-3d9ca0d4ecdb"
      },
      "execution_count": 9,
      "outputs": [
        {
          "output_type": "execute_result",
          "data": {
            "text/plain": [
              "<matplotlib.image.AxesImage at 0x7f4c13e51e10>"
            ]
          },
          "metadata": {},
          "execution_count": 9
        },
        {
          "output_type": "display_data",
          "data": {
            "text/plain": [
              "<Figure size 360x360 with 2 Axes>"
            ],
            "image/png": "[encoded data removed]"
          },
          "metadata": {
            "needs_background": "light"
          }
        }
      ]
    },
    {
      "cell_type": "code",
      "execution_count": 10,
      "metadata": {
        "id": "jEZgMnYOdgs9"
      },
      "outputs": [],
      "source": [
        "# IoU validation metrics\n",
        "def validate_iou(model, val_loader, device):\n",
        "    metrics = []\n",
        "    for images, labels in val_loader:\n",
        "        images = images.to(device)\n",
        "        labels = labels.to(device)\n",
        "        #print(labels.shape, 'labels')\n",
        "        pred_mask = model(images).to(device)\n",
        "        pred_mask = (pred_mask > 0.5).float()\n",
        "        #print(pred_mask.shape, 'pred')\n",
        "        tp, fp, fn, tn = smp.metrics.get_stats(pred_mask.long(), labels.long(), mode=\"binary\")\n",
        "        metrics.append(smp.metrics.iou_score(tp, fp, fn, tn, reduction=\"micro-imagewise\").detach().cpu().numpy())\n",
        "    \n",
        "    #print(metrics)\n",
        "    return np.array(metrics).mean()"
      ]
    },
    {
      "cell_type": "code",
      "execution_count": 11,
      "metadata": {
        "collapsed": true,
        "id": "7eKsmZBFgMLM"
      },
      "outputs": [],
      "source": [
        "# train function\n",
        "def train(model, num_epochs=50):\n",
        "    \n",
        "    #device = torch.device('cuda' if torch.cuda.is_available() else 'cpu')\n",
        "    #print('Using device:', device)\n",
        "    \n",
        "    device = torch.device(\"cuda\")\n",
        "    \n",
        "    sum_acc = np.zeros((1,  num_epochs))\n",
        "    sum_loss = sum_acc.copy()\n",
        "    model.train()\n",
        "    model.to(device)\n",
        "\n",
        "    criterion = smp.losses.DiceLoss(smp.losses.BINARY_MODE, from_logits=True)\n",
        "    \n",
        "    optimizer = optim.Adam(model.parameters(), lr=0.001, weight_decay=1e-4)\n",
        "    best_accuracy = 0\n",
        "    best_loss = 100\n",
        "\n",
        "    for epoch in tqdm(range(num_epochs)):\n",
        "        epoch_start = time.time()\n",
        "\n",
        "        for img_batch, labels_batch in (train_loader):\n",
        "            optimizer.zero_grad()\n",
        "            #print(img_batch.shape)\n",
        "            #print(labels_batch.shape, 'labels')\n",
        "        \n",
        "            output = model(img_batch.to(device))            \n",
        "            #print(output.shape, 'output')\n",
        "\n",
        "            #loss = criterion(output, labels_batch.to(device).unsqueeze(1))\n",
        "            loss = criterion(output, labels_batch.to(device).unsqueeze(1))\n",
        "            #print(loss, 'loss')\n",
        "            loss.backward()\n",
        "            optimizer.step()\n",
        "\n",
        "        accuracy = validate_iou(model, val_loader, device)\n",
        "        #print(accuracy)\n",
        "\n",
        "        if best_accuracy < accuracy:\n",
        "            best_accuracy = accuracy\n",
        "            print('Best metrics')\n",
        "            torch.save(model.state_dict(), '/gdrive/My Drive/Segmentation_project/weights/model_weights_efficientnet-b0_batch=52_100epochs.pth') #name of saved weights\n",
        "        if best_loss > loss.cpu().item():\n",
        "            best_loss = loss.cpu().item()\n",
        "#             print('Best loss improved')\n",
        "\n",
        "        sum_acc[0, epoch] = accuracy\n",
        "        sum_loss[0, epoch] = loss  \n",
        "        epoch_end = time.time()\n",
        "        print(\"Epoch: {} Loss: {:.3f} IoU: {:.3f} Time: {:.4f}s\".format(epoch, loss.item(), accuracy, epoch_end-epoch_start))\n",
        "        \n",
        "        #plt.plot(sum_acc[0,0:epoch].T)\n",
        "        #plt.show()\n",
        "    \n",
        "    return sum_acc, sum_loss"
      ]
    },
    {
      "cell_type": "code",
      "execution_count": null,
      "metadata": {
        "colab": {
          "base_uri": "https://localhost:8080/"
        },
        "id": "xqd_LMTagMLO",
        "outputId": "a0318072-60b2-4294-94b4-1611faa3e84e"
      },
      "outputs": [
        {
          "output_type": "stream",
          "name": "stderr",
          "text": [
            "\r  0%|          | 0/100 [00:00<?, ?it/s]"
          ]
        },
        {
          "output_type": "stream",
          "name": "stdout",
          "text": [
            "Best metrics\n"
          ]
        },
        {
          "output_type": "stream",
          "name": "stderr",
          "text": [
            "\r  1%|          | 1/100 [30:09<49:46:23, 1809.93s/it]"
          ]
        },
        {
          "output_type": "stream",
          "name": "stdout",
          "text": [
            "Epoch: 0 Loss: 0.039 IoU: 0.851 Time: 1809.9332s\n"
          ]
        },
        {
          "output_type": "stream",
          "name": "stderr",
          "text": [
            "\r  2%|▏         | 2/100 [53:48<42:59:50, 1579.50s/it]"
          ]
        },
        {
          "output_type": "stream",
          "name": "stdout",
          "text": [
            "Epoch: 1 Loss: 0.055 IoU: 0.835 Time: 1418.1882s\n",
            "Best metrics\n"
          ]
        },
        {
          "output_type": "stream",
          "name": "stderr",
          "text": [
            "\r  3%|▎         | 3/100 [1:17:36<40:41:49, 1510.40s/it]"
          ]
        },
        {
          "output_type": "stream",
          "name": "stdout",
          "text": [
            "Epoch: 2 Loss: 0.021 IoU: 0.863 Time: 1428.1727s\n"
          ]
        },
        {
          "output_type": "stream",
          "name": "stderr",
          "text": [
            "\r  4%|▍         | 4/100 [1:40:39<38:56:13, 1460.14s/it]"
          ]
        },
        {
          "output_type": "stream",
          "name": "stdout",
          "text": [
            "Epoch: 3 Loss: 0.096 IoU: 0.781 Time: 1383.0696s\n",
            "Best metrics\n"
          ]
        },
        {
          "output_type": "stream",
          "name": "stderr",
          "text": [
            "\r  5%|▌         | 5/100 [2:03:48<37:51:26, 1434.60s/it]"
          ]
        },
        {
          "output_type": "stream",
          "name": "stdout",
          "text": [
            "Epoch: 4 Loss: 0.036 IoU: 0.878 Time: 1389.2981s\n"
          ]
        }
      ],
      "source": [
        "model = smp.Unet(encoder_name='efficientnet-b0', \n",
        "                 encoder_depth=5, \n",
        "                 encoder_weights='imagenet', \n",
        "                 decoder_use_batchnorm=True, \n",
        "                 decoder_channels=(256, 128, 64, 32, 16), \n",
        "                 decoder_attention_type=None, \n",
        "                 in_channels=3, \n",
        "                 classes=1, \n",
        "                 #activation='sigmoid', \n",
        "                 aux_params=None)\n",
        "\n",
        "accuracy, loss = train(model, 100)"
      ]
    },
    {
      "cell_type": "code",
      "source": [
        "np.save('/gdrive/My Drive/Segmentation_project/Loss_IoU/acc_1605_efficientnet-b0_batch=52_100epochs.npy', accuracy)\n",
        "np.save('/gdrive/My Drive/Segmentation_project/Loss_IoU/loss_1605_efficientnet-b0_batch=52_100epochs.npy', loss)"
      ],
      "metadata": {
        "id": "qfexiKwGZNzV"
      },
      "execution_count": null,
      "outputs": []
    },
    {
      "cell_type": "code",
      "source": [
        ""
      ],
      "metadata": {
        "id": "aAiw4TEsZwTF"
      },
      "execution_count": null,
      "outputs": []
    },
    {
      "cell_type": "code",
      "source": [
        "accuracy = np.load('/gdrive/My Drive/Segmentation_project/acc_0605_mobilenet_v2_batch=30.npy')\n",
        "loss = np.load('/gdrive/My Drive/Segmentation_project/loss_0605_mobilenet_v2_batch=30.npy')"
      ],
      "metadata": {
        "id": "TD1IkpCKZ1dd"
      },
      "execution_count": null,
      "outputs": []
    },
    {
      "cell_type": "code",
      "source": [
        "epochs = np.linspace(1,100,100)"
      ],
      "metadata": {
        "id": "pBHg8XDcZ1il"
      },
      "execution_count": null,
      "outputs": []
    },
    {
      "cell_type": "code",
      "source": [
        "import matplotlib\n",
        "plt.figure(figsize=([10, 6]))\n",
        "matplotlib.rcParams.update({'font.size': 16})\n",
        "plt.title('batch_size = 60, encoder_name = efficientnet-b0', FontSize=20)\n",
        "plt.plot(epochs, loss[0])\n",
        "plt.xlabel('Epochs', FontSize=25)\n",
        "plt.ylabel('Loss', FontSize=25)\n",
        "plt.axis([0,20,0,1])\n",
        "\n",
        "plt.savefig('/gdrive/My Drive/Segmentation_project/Loss_IoU/loss_0905_efficientnet-b0_batch=60_100epochs_act=sig.png')\n",
        "plt.show()"
      ],
      "metadata": {
        "id": "gQQGza9xLtW8"
      },
      "execution_count": null,
      "outputs": []
    },
    {
      "cell_type": "code",
      "execution_count": null,
      "metadata": {
        "id": "1OClDzwOY8EE"
      },
      "outputs": [],
      "source": [
        "import matplotlib\n",
        "plt.figure(figsize=([10, 5]))\n",
        "matplotlib.rcParams.update({'font.size': 16})\n",
        "plt.title('batch_size = 60, encoder_name = efficientnet-b0', FontSize=20)\n",
        "plt.plot(epochs, accuracy[0])\n",
        "plt.xlabel('Epochs', FontSize=25)\n",
        "plt.ylabel('IoU', FontSize=25)\n",
        "plt.axis([0,20,0,1])\n",
        "\n",
        "plt.savefig('/gdrive/My Drive/Segmentation_project/Loss_IoU/acc_0905_efficientnet-b0_batch=60_100epochs_act=sig.png')\n",
        "plt.show()"
      ]
    },
    {
      "cell_type": "code",
      "source": [
        ""
      ],
      "metadata": {
        "id": "ZoC3nfcBVNf1"
      },
      "execution_count": null,
      "outputs": []
    },
    {
      "cell_type": "code",
      "execution_count": null,
      "metadata": {
        "id": "QeXUeMNMY8HN"
      },
      "outputs": [],
      "source": [
        ""
      ]
    },
    {
      "cell_type": "code",
      "execution_count": null,
      "metadata": {
        "collapsed": true,
        "id": "ZJ7oSSURgMLT"
      },
      "outputs": [],
      "source": [
        "# медианный фильтр, чтобы убрать полосы\n",
        "# pretrained (ссылка) вместо ImageNet - посмотреть веса\n",
        "# FPN / DeepLab\n"
      ]
    },
    {
      "cell_type": "code",
      "execution_count": null,
      "metadata": {
        "collapsed": true,
        "id": "jvCvAeR-gMLX"
      },
      "outputs": [],
      "source": [
        "# efficient/mobileNet\n",
        "# аугментации (поворот, растяжение, цвет)\n",
        "# дописать лит обзор про гистотрипсию и применение сетей +"
      ]
    },
    {
      "cell_type": "code",
      "execution_count": null,
      "metadata": {
        "id": "XTXIMH5vWHyO"
      },
      "outputs": [],
      "source": [
        "# Opencv медианный фильтр для картинок, чтобы убрать полосы\n",
        "# дисбаланс классов, focalloss \n",
        "# загрузка с диска (взять tiff, нарезать)"
      ]
    },
    {
      "cell_type": "code",
      "execution_count": null,
      "metadata": {
        "id": "LAavWyAlx7_I"
      },
      "outputs": [],
      "source": [
        "# equal amount of images with total black and wb zones\n",
        "counter_black = []\n",
        "counter_wb = []\n",
        "for i in range(len(y_labels)):\n",
        "    if sum(sum(y_labels[i][0])) > 0:\n",
        "        counter_wb.append(i)\n",
        "    else:\n",
        "        counter_black.append(i)\n",
        "\n",
        "print(len(counter_black))\n",
        "print(len(counter_wb))\n",
        "\n",
        "ind_wb = random.choices(counter_wb, weights=None, cum_weights=None, k=900)\n",
        "ind_black = random.choices(counter_black, weights=None, cum_weights=None, k=900)\n",
        "\n",
        "ind = ind_wb + ind_wb\n",
        "print(len(ind))\n",
        "x_images_sorted = x_images[ind]\n",
        "del x_images\n",
        "print(x_images_sorted.shape)\n",
        "y_labels_sorted = y_labels[ind]\n",
        "print(y_labels_sorted.shape)\n",
        "del y_labels\n"
      ]
    }
  ],
  "metadata": {
    "colab": {
      "collapsed_sections": [],
      "name": "FINAL_Education.ipynb\"",
      "provenance": []
    },
    "kernelspec": {
      "display_name": "Python 3",
      "language": "python",
      "name": "python3"
    },
    "language_info": {
      "codemirror_mode": {
        "name": "ipython",
        "version": 3
      },
      "file_extension": ".py",
      "mimetype": "text/x-python",
      "name": "python",
      "nbconvert_exporter": "python",
      "pygments_lexer": "ipython3",
      "version": "3.6.3"
    },
    "accelerator": "GPU"
  },
  "nbformat": 4,
  "nbformat_minor": 0
}