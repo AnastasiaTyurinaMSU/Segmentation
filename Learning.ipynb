{
  "cells": [
    {
      "cell_type": "code",
      "execution_count": null,
      "metadata": {
        "id": "pjJ-Lke_gMLC"
      },
      "outputs": [],
      "source": [
        "import torch\n",
        "import glob\n",
        "from PIL import Image\n",
        "import torch.optim as optim\n",
        "import torchvision\n",
        "from torch.utils.data import DataLoader,  TensorDataset, Dataset\n",
        "import torch.nn as nn\n",
        "\n",
        "import numpy as np\n",
        "import matplotlib.pyplot as plt\n",
        "import math\n",
        "\n",
        "import os\n",
        "from os import listdir\n",
        "import shutil\n",
        "import time\n",
        "from tqdm import tqdm\n",
        "\n",
        "#from torchvision import models, datasets, transforms\n",
        "!pip install git+https://github.com/qubvel/segmentation_models.pytorch\n",
        "import segmentation_models_pytorch as smp\n",
        "\n",
        "import imageio\n",
        "import pickle\n",
        "\n",
        "from google.colab import drive\n",
        "drive.mount('/gdrive')\n",
        "\n",
        "import random\n",
        "\n",
        "def set_random_seed(seed):\n",
        "    torch.backends.cudnn.deterministic = True\n",
        "    torch.manual_seed(seed)\n",
        "    torch.cuda.manual_seed(seed)\n",
        "    np.random.seed(seed)\n",
        "    random.seed(seed)\n",
        "    os.environ[\"PYTHONHASHSEED\"] = str(seed)\n",
        "set_random_seed(42)"
      ]
    },
    {
      "cell_type": "code",
      "execution_count": null,
      "metadata": {
        "collapsed": true,
        "id": "YG2ToT0YgMLG"
      },
      "outputs": [],
      "source": [
        "# dataset creating \n",
        "class MyDataset(Dataset):\n",
        "    \n",
        "    def __init__(self, data, targets, transform):\n",
        "        self.transform = transform\n",
        "\n",
        "        self.dir_data = data\n",
        "        self.dir_targets = targets\n",
        "\n",
        "        self.list_data = listdir(data)\n",
        "        self.list_targets = listdir(targets)\n",
        "\n",
        "        self.list_data.sort()\n",
        "        self.list_targets.sort()\n",
        "\n",
        "    def __len__(self):\n",
        "        if len(listdir(self.dir_data)) != len(listdir(self.dir_targets)):\n",
        "            raise Exception(f'error {len(listdir(self.dir_data))} {len(listdir(self.dir_targets))}')\n",
        "        return len(listdir(self.dir_data))\n",
        "\n",
        "    def __getitem__(self, idx):\n",
        "\n",
        "        with open(f'{self.dir_data}/{self.list_data[idx]}', 'rb') as f:\n",
        "            image = pickle.load(f)\n",
        "\n",
        "        with open(f'{self.dir_targets}/{self.list_targets[idx]}', 'rb') as f:\n",
        "            mask = pickle.load(f)\n",
        "      \n",
        "        if self.transform is not None:\n",
        "            transformed = self.transform(image=image, mask=mask)\n",
        "            image = transformed[\"image\"]\n",
        "            mask = transformed[\"mask\"]\n",
        "        return torch.from_numpy(image).float(), torch.from_numpy(mask)"
      ]
    },
    {
      "cell_type": "code",
      "execution_count": null,
      "metadata": {
        "id": "UO0tkM9RA4OT"
      },
      "outputs": [],
      "source": [
        "# dataset balanced\n",
        "dir_img = '/gdrive/My Drive/TyurinaAV_segmentation/Learning/train_val_images_balanced'\n",
        "dir_mask = '/gdrive/My Drive/TyurinaAV_segmentation/Learning/train_val_masks_balanced'\n",
        "\n",
        "dataset_balanced = MyDataset(data=dir_img, targets=dir_mask)\n",
        "\n",
        "train_dataset, val_dataset = torch.utils.data.random_split(dataset_balanced, [int(5200*0.8), int(5200*0.2)])\n",
        "train_loader = DataLoader(train_dataset, batch_size = 26, shuffle = True)\n",
        "val_loader = DataLoader(val_dataset, batch_size = 26, shuffle = False)"
      ]
    },
    {
      "cell_type": "code",
      "execution_count": null,
      "metadata": {
        "id": "jEZgMnYOdgs9"
      },
      "outputs": [],
      "source": [
        "# IoU validation metrics\n",
        "def validate_iou(model, val_loader, device):\n",
        "    metrics = []\n",
        "    for images, labels in val_loader:\n",
        "        images = images.to(device)\n",
        "        labels = labels.to(device)\n",
        "        #print(labels.shape, 'labels')\n",
        "        pred_mask = model(images).to(device)\n",
        "        pred_mask = (pred_mask > 0.5).float()\n",
        "        #print(pred_mask.shape, 'pred')\n",
        "        tp, fp, fn, tn = smp.metrics.get_stats(pred_mask.long(), labels.long(), mode=\"binary\")\n",
        "        metrics.append(smp.metrics.iou_score(tp, fp, fn, tn, reduction=\"micro-imagewise\").detach().cpu().numpy())\n",
        "    \n",
        "    #print(metrics)\n",
        "    return np.array(metrics).mean()"
      ]
    },
    {
      "cell_type": "code",
      "execution_count": null,
      "metadata": {
        "collapsed": true,
        "id": "7eKsmZBFgMLM"
      },
      "outputs": [],
      "source": [
        "# train function\n",
        "def train(model, num_epochs):\n",
        "    \n",
        "    #device = torch.device('cuda' if torch.cuda.is_available() else 'cpu')\n",
        "    #print('Using device:', device)\n",
        "    \n",
        "    device = torch.device(\"cuda\")\n",
        "    \n",
        "    sum_acc = np.zeros((1,  num_epochs))\n",
        "    sum_loss = sum_acc.copy()\n",
        "    model.train()\n",
        "    model.to(device)\n",
        "\n",
        "    criterion = smp.losses.DiceLoss(smp.losses.BINARY_MODE, from_logits=True)\n",
        "    \n",
        "    optimizer = optim.Adam(model.parameters(), lr=0.001, weight_decay=1e-4)\n",
        "    best_accuracy = 0\n",
        "    best_loss = 100\n",
        "\n",
        "    for epoch in tqdm(range(num_epochs)):\n",
        "        epoch_start = time.time()\n",
        "\n",
        "        for img_batch, labels_batch in (train_loader):\n",
        "            # color\n",
        "            #imag_batch = torchvision.transforms.ColorJitter(brightness=epoch*0.5, contrast=epoch*0.5, saturation=epoch*0.5, hue=epoch*0.5)\n",
        "            \n",
        "            # rotation\n",
        "            #imag_batch = torchvision.transforms.functional.rotate(img_batch, epoch*3.6)\n",
        "            #labels_batch = torchvision.transforms.functional.rotate(labels_batch, epoch*3.6)\n",
        "            \n",
        "            optimizer.zero_grad()\n",
        "            output = model(img_batch.to(device))            \n",
        "            loss = criterion(output, labels_batch.to(device).unsqueeze(1))\n",
        "            loss.backward()\n",
        "            optimizer.step()\n",
        "\n",
        "        accuracy = validate_iou(model, val_loader, device)\n",
        "\n",
        "        if best_accuracy < accuracy:\n",
        "            best_accuracy = accuracy\n",
        "            print('Best metrics')\n",
        "            torch.save(model.state_dict(), '/gdrive/My Drive/TyurinaAV_segmentation/Learning/model_weights.pth') #name of saved weights\n",
        "        if best_loss > loss.cpu().item():\n",
        "            best_loss = loss.cpu().item()\n",
        "#             print('Best loss improved')\n",
        "\n",
        "        sum_acc[0, epoch] = accuracy\n",
        "        sum_loss[0, epoch] = loss  \n",
        "        epoch_end = time.time()\n",
        "        print(\"Epoch: {} Loss: {:.3f} IoU: {:.3f} Time: {:.4f}s\".format(epoch+1, loss.item(), accuracy, epoch_end-epoch_start))\n",
        "        \n",
        "    \n",
        "    return sum_acc, sum_loss"
      ]
    },
    {
      "cell_type": "code",
      "execution_count": null,
      "metadata": {
        "id": "xqd_LMTagMLO"
      },
      "outputs": [],
      "source": [
        "model = smp.Unet(encoder_name='efficientnet-b0', \n",
        "                 encoder_depth=5, \n",
        "                 encoder_weights='imagenet', \n",
        "                 decoder_use_batchnorm=True, \n",
        "                 decoder_channels=(256, 128, 64, 32, 16), \n",
        "                 decoder_attention_type=None, \n",
        "                 in_channels=3, \n",
        "                 classes=1, \n",
        "                 #activation='sigmoid', \n",
        "                 aux_params=None)\n",
        "\n",
        "num_epochs = 5\n",
        "accuracy, loss = train(model, num_epochs)"
      ]
    },
    {
      "cell_type": "code",
      "execution_count": null,
      "metadata": {
        "id": "_1B9IVkM0OBG"
      },
      "outputs": [],
      "source": [
        "#model = smp.DeepLabV3Plus(encoder_name='efficientnet-b4', \n",
        "#                          encoder_depth=5,\n",
        "#                          encoder_weights='imagenet',\n",
        "#                          encoder_output_stride=16,\n",
        "#                          decoder_channels=256,\n",
        "#                          decoder_atrous_rates=(12, 24, 36),\n",
        "#                          in_channels=3,\n",
        "#                          classes=1,\n",
        "#                          activation=None,\n",
        "#                          upsampling=4,\n",
        "#                          #aux_params=None\n",
        "#                          )\n",
        "\n",
        "#num_epochs = 5\n",
        "#accuracy, loss = train(model, num_epochs)"
      ]
    },
    {
      "cell_type": "code",
      "execution_count": null,
      "metadata": {
        "id": "qfexiKwGZNzV"
      },
      "outputs": [],
      "source": [
        "#np.save('/gdrive/My Drive/TyurinaAV_segmentation/Learning/accDeep_efficientnet-b4_batch=26_100ep.npy', accuracy)\n",
        "#np.save('/gdrive/My Drive/TyurinaAV_segmentation/Learning/lossDeep_efficientnet-b4_batch=26_100ep.npy', loss)"
      ]
    }
  ],
  "metadata": {
    "accelerator": "GPU",
    "colab": {
      "collapsed_sections": [],
      "machine_shape": "hm",
      "name": "Learning.ipynb",
      "provenance": []
    },
    "gpuClass": "standard",
    "kernelspec": {
      "display_name": "Python 3",
      "language": "python",
      "name": "python3"
    },
    "language_info": {
      "codemirror_mode": {
        "name": "ipython",
        "version": 3
      },
      "file_extension": ".py",
      "mimetype": "text/x-python",
      "name": "python",
      "nbconvert_exporter": "python",
      "pygments_lexer": "ipython3",
      "version": "3.6.3"
    }
  },
  "nbformat": 4,
  "nbformat_minor": 0
}